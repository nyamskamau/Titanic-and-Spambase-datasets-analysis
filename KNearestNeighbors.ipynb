{
  "nbformat": 4,
  "nbformat_minor": 0,
  "metadata": {
    "colab": {
      "name": "KNearestNeighbors",
      "provenance": [],
      "collapsed_sections": [
        "7ODbkvCLgQy2",
        "KsKWpGUzgXyS",
        "INbhUNTSwnLl",
        "NH31EfsQwnaJ"
      ],
      "authorship_tag": "ABX9TyNjvWE8qnUd3utk9wTzzdWK",
      "include_colab_link": true
    },
    "kernelspec": {
      "name": "python3",
      "display_name": "Python 3"
    }
  },
  "cells": [
    {
      "cell_type": "markdown",
      "metadata": {
        "id": "view-in-github",
        "colab_type": "text"
      },
      "source": [
        "<a href=\"https://colab.research.google.com/github/nyamskamau/Titanic-and-Spambase-datasets-analysis/blob/main/KNearestNeighbors.ipynb\" target=\"_parent\"><img src=\"https://colab.research.google.com/assets/colab-badge.svg\" alt=\"Open In Colab\"/></a>"
      ]
    },
    {
      "cell_type": "markdown",
      "metadata": {
        "id": "SOwwdcQKDuqF"
      },
      "source": [
        "# 1.Defining the Question\n",
        "\n",
        ">* To determine whether a Passanger Survived or died during the sinking of the Titanic in 1912."
      ]
    },
    {
      "cell_type": "markdown",
      "metadata": {
        "id": "DteAbIzqDuZl"
      },
      "source": [
        "# 2.Metric for Success\n",
        ">* To obtain an accuracy score of at least 85% for my model."
      ]
    },
    {
      "cell_type": "markdown",
      "metadata": {
        "id": "91s46qDkDuUT"
      },
      "source": [
        "# 3.The Context\n",
        "\n",
        ">* The Titanic was a ship that sunk in the year 1912. \n",
        "Thus given the dataset with information of the passengers we would like to determine whether a passenger survived the incident or not."
      ]
    },
    {
      "cell_type": "markdown",
      "metadata": {
        "id": "xgZZw3MNDuQY"
      },
      "source": [
        "# 4.The Experimental Design Taken\n",
        "\n",
        ">* This first step of this analysis will be loading the dataset , the appropriate libraries and then taking the necessary steps to clean the data.\n",
        ">* Next I will carry out Univariate and Bivariate data analysis while dealing with the outliers found within my dataset\n",
        ">* Finally I will build  KNN  models and evaluate their performance on the dataset at hand and then provide observations and recommendations on the suitability of each of the tested models on their appropriateness of solving the given problem."
      ]
    },
    {
      "cell_type": "markdown",
      "metadata": {
        "id": "OZBtGNLVDuKc"
      },
      "source": [
        "#5.The Appropriateness of the data to answer the given question.\n",
        "\n",
        ">* Given the Question at hand the data provided was appropriate for my analysis"
      ]
    },
    {
      "cell_type": "markdown",
      "metadata": {
        "id": "7ODbkvCLgQy2"
      },
      "source": [
        "## Loading the dataset and the appropriate libraries"
      ]
    },
    {
      "cell_type": "markdown",
      "metadata": {
        "id": "ZfLHjcb911lx"
      },
      "source": [
        "> I loaded my datasets and the appropriate libraries for my analysis.\n",
        "> I then previewed the datasets and obtained information on the datatypes of the columns.\n"
      ]
    },
    {
      "cell_type": "markdown",
      "metadata": {
        "id": "NFkddS0dQIDn"
      },
      "source": [
        "The column descriptions for the dataset were:\n",
        "1. Survival - Survival (0 = No; 1 = Yes)\n",
        "2. Pclass - Passenger Class (1 = 1st; 2 = 2nd; 3 = 3rd)\n",
        "3. Name - Name\n",
        "4. Sex - Sex\n",
        "5. Age - Age\n",
        "6. Sibsp - Number of Siblings/Spouses Aboard\n",
        "7. Parch - Number of Parents/Children Aboard\n",
        "8. Ticket - Ticket Number\n",
        "9. Fare - Passenger Fare\n",
        "10. Cabin - Cabin\n",
        "11. Embarked - Port of Embarkation (C = Cherbourg; Q = Queenstown; S = Southampton)"
      ]
    },
    {
      "cell_type": "code",
      "metadata": {
        "id": "oenWrZAVNcKM"
      },
      "source": [
        "# Importing my Libraries\n",
        "import pandas as pd\n",
        "import numpy as np\n",
        "import matplotlib.pyplot as plt\n",
        "import seaborn as sns;sns.set_style(\"whitegrid\")\n",
        "from sklearn.neighbors import KNeighborsClassifier\n",
        "from sklearn.model_selection import train_test_split\n",
        "from sklearn.metrics import accuracy_score,confusion_matrix\n",
        "from sklearn.preprocessing import StandardScaler,Normalizer\n",
        "from sklearn.discriminant_analysis import LinearDiscriminantAnalysis\n"
      ],
      "execution_count": 1,
      "outputs": []
    },
    {
      "cell_type": "markdown",
      "metadata": {
        "id": "2gmwI7rF2zG3"
      },
      "source": [
        ">* I first importing the Training set of the data and then the Test set."
      ]
    },
    {
      "cell_type": "code",
      "metadata": {
        "id": "d4lDPgX2O0FO"
      },
      "source": [
        "# Importing my dataset\n",
        "train = pd.read_csv('train.csv')"
      ],
      "execution_count": 2,
      "outputs": []
    },
    {
      "cell_type": "code",
      "metadata": {
        "colab": {
          "base_uri": "https://localhost:8080/",
          "height": 0
        },
        "id": "O-fG_RRqPL6T",
        "outputId": "43746067-d121-4609-9c62-634b135656f1"
      },
      "source": [
        "train.head()"
      ],
      "execution_count": 3,
      "outputs": [
        {
          "output_type": "execute_result",
          "data": {
            "text/html": [
              "<div>\n",
              "<style scoped>\n",
              "    .dataframe tbody tr th:only-of-type {\n",
              "        vertical-align: middle;\n",
              "    }\n",
              "\n",
              "    .dataframe tbody tr th {\n",
              "        vertical-align: top;\n",
              "    }\n",
              "\n",
              "    .dataframe thead th {\n",
              "        text-align: right;\n",
              "    }\n",
              "</style>\n",
              "<table border=\"1\" class=\"dataframe\">\n",
              "  <thead>\n",
              "    <tr style=\"text-align: right;\">\n",
              "      <th></th>\n",
              "      <th>PassengerId</th>\n",
              "      <th>Survived</th>\n",
              "      <th>Pclass</th>\n",
              "      <th>Name</th>\n",
              "      <th>Sex</th>\n",
              "      <th>Age</th>\n",
              "      <th>SibSp</th>\n",
              "      <th>Parch</th>\n",
              "      <th>Ticket</th>\n",
              "      <th>Fare</th>\n",
              "      <th>Cabin</th>\n",
              "      <th>Embarked</th>\n",
              "    </tr>\n",
              "  </thead>\n",
              "  <tbody>\n",
              "    <tr>\n",
              "      <th>0</th>\n",
              "      <td>1</td>\n",
              "      <td>0</td>\n",
              "      <td>3</td>\n",
              "      <td>Braund, Mr. Owen Harris</td>\n",
              "      <td>male</td>\n",
              "      <td>22.0</td>\n",
              "      <td>1</td>\n",
              "      <td>0</td>\n",
              "      <td>A/5 21171</td>\n",
              "      <td>7.2500</td>\n",
              "      <td>NaN</td>\n",
              "      <td>S</td>\n",
              "    </tr>\n",
              "    <tr>\n",
              "      <th>1</th>\n",
              "      <td>2</td>\n",
              "      <td>1</td>\n",
              "      <td>1</td>\n",
              "      <td>Cumings, Mrs. John Bradley (Florence Briggs Th...</td>\n",
              "      <td>female</td>\n",
              "      <td>38.0</td>\n",
              "      <td>1</td>\n",
              "      <td>0</td>\n",
              "      <td>PC 17599</td>\n",
              "      <td>71.2833</td>\n",
              "      <td>C85</td>\n",
              "      <td>C</td>\n",
              "    </tr>\n",
              "    <tr>\n",
              "      <th>2</th>\n",
              "      <td>3</td>\n",
              "      <td>1</td>\n",
              "      <td>3</td>\n",
              "      <td>Heikkinen, Miss. Laina</td>\n",
              "      <td>female</td>\n",
              "      <td>26.0</td>\n",
              "      <td>0</td>\n",
              "      <td>0</td>\n",
              "      <td>STON/O2. 3101282</td>\n",
              "      <td>7.9250</td>\n",
              "      <td>NaN</td>\n",
              "      <td>S</td>\n",
              "    </tr>\n",
              "    <tr>\n",
              "      <th>3</th>\n",
              "      <td>4</td>\n",
              "      <td>1</td>\n",
              "      <td>1</td>\n",
              "      <td>Futrelle, Mrs. Jacques Heath (Lily May Peel)</td>\n",
              "      <td>female</td>\n",
              "      <td>35.0</td>\n",
              "      <td>1</td>\n",
              "      <td>0</td>\n",
              "      <td>113803</td>\n",
              "      <td>53.1000</td>\n",
              "      <td>C123</td>\n",
              "      <td>S</td>\n",
              "    </tr>\n",
              "    <tr>\n",
              "      <th>4</th>\n",
              "      <td>5</td>\n",
              "      <td>0</td>\n",
              "      <td>3</td>\n",
              "      <td>Allen, Mr. William Henry</td>\n",
              "      <td>male</td>\n",
              "      <td>35.0</td>\n",
              "      <td>0</td>\n",
              "      <td>0</td>\n",
              "      <td>373450</td>\n",
              "      <td>8.0500</td>\n",
              "      <td>NaN</td>\n",
              "      <td>S</td>\n",
              "    </tr>\n",
              "  </tbody>\n",
              "</table>\n",
              "</div>"
            ],
            "text/plain": [
              "   PassengerId  Survived  Pclass  ...     Fare Cabin  Embarked\n",
              "0            1         0       3  ...   7.2500   NaN         S\n",
              "1            2         1       1  ...  71.2833   C85         C\n",
              "2            3         1       3  ...   7.9250   NaN         S\n",
              "3            4         1       1  ...  53.1000  C123         S\n",
              "4            5         0       3  ...   8.0500   NaN         S\n",
              "\n",
              "[5 rows x 12 columns]"
            ]
          },
          "metadata": {
            "tags": []
          },
          "execution_count": 3
        }
      ]
    },
    {
      "cell_type": "code",
      "metadata": {
        "colab": {
          "base_uri": "https://localhost:8080/",
          "height": 0
        },
        "id": "vR4EAzBEPPd6",
        "outputId": "b9bfb7c0-2bbb-4008-b98c-aa5f73d7031d"
      },
      "source": [
        "train.tail()"
      ],
      "execution_count": 4,
      "outputs": [
        {
          "output_type": "execute_result",
          "data": {
            "text/html": [
              "<div>\n",
              "<style scoped>\n",
              "    .dataframe tbody tr th:only-of-type {\n",
              "        vertical-align: middle;\n",
              "    }\n",
              "\n",
              "    .dataframe tbody tr th {\n",
              "        vertical-align: top;\n",
              "    }\n",
              "\n",
              "    .dataframe thead th {\n",
              "        text-align: right;\n",
              "    }\n",
              "</style>\n",
              "<table border=\"1\" class=\"dataframe\">\n",
              "  <thead>\n",
              "    <tr style=\"text-align: right;\">\n",
              "      <th></th>\n",
              "      <th>PassengerId</th>\n",
              "      <th>Survived</th>\n",
              "      <th>Pclass</th>\n",
              "      <th>Name</th>\n",
              "      <th>Sex</th>\n",
              "      <th>Age</th>\n",
              "      <th>SibSp</th>\n",
              "      <th>Parch</th>\n",
              "      <th>Ticket</th>\n",
              "      <th>Fare</th>\n",
              "      <th>Cabin</th>\n",
              "      <th>Embarked</th>\n",
              "    </tr>\n",
              "  </thead>\n",
              "  <tbody>\n",
              "    <tr>\n",
              "      <th>886</th>\n",
              "      <td>887</td>\n",
              "      <td>0</td>\n",
              "      <td>2</td>\n",
              "      <td>Montvila, Rev. Juozas</td>\n",
              "      <td>male</td>\n",
              "      <td>27.0</td>\n",
              "      <td>0</td>\n",
              "      <td>0</td>\n",
              "      <td>211536</td>\n",
              "      <td>13.00</td>\n",
              "      <td>NaN</td>\n",
              "      <td>S</td>\n",
              "    </tr>\n",
              "    <tr>\n",
              "      <th>887</th>\n",
              "      <td>888</td>\n",
              "      <td>1</td>\n",
              "      <td>1</td>\n",
              "      <td>Graham, Miss. Margaret Edith</td>\n",
              "      <td>female</td>\n",
              "      <td>19.0</td>\n",
              "      <td>0</td>\n",
              "      <td>0</td>\n",
              "      <td>112053</td>\n",
              "      <td>30.00</td>\n",
              "      <td>B42</td>\n",
              "      <td>S</td>\n",
              "    </tr>\n",
              "    <tr>\n",
              "      <th>888</th>\n",
              "      <td>889</td>\n",
              "      <td>0</td>\n",
              "      <td>3</td>\n",
              "      <td>Johnston, Miss. Catherine Helen \"Carrie\"</td>\n",
              "      <td>female</td>\n",
              "      <td>NaN</td>\n",
              "      <td>1</td>\n",
              "      <td>2</td>\n",
              "      <td>W./C. 6607</td>\n",
              "      <td>23.45</td>\n",
              "      <td>NaN</td>\n",
              "      <td>S</td>\n",
              "    </tr>\n",
              "    <tr>\n",
              "      <th>889</th>\n",
              "      <td>890</td>\n",
              "      <td>1</td>\n",
              "      <td>1</td>\n",
              "      <td>Behr, Mr. Karl Howell</td>\n",
              "      <td>male</td>\n",
              "      <td>26.0</td>\n",
              "      <td>0</td>\n",
              "      <td>0</td>\n",
              "      <td>111369</td>\n",
              "      <td>30.00</td>\n",
              "      <td>C148</td>\n",
              "      <td>C</td>\n",
              "    </tr>\n",
              "    <tr>\n",
              "      <th>890</th>\n",
              "      <td>891</td>\n",
              "      <td>0</td>\n",
              "      <td>3</td>\n",
              "      <td>Dooley, Mr. Patrick</td>\n",
              "      <td>male</td>\n",
              "      <td>32.0</td>\n",
              "      <td>0</td>\n",
              "      <td>0</td>\n",
              "      <td>370376</td>\n",
              "      <td>7.75</td>\n",
              "      <td>NaN</td>\n",
              "      <td>Q</td>\n",
              "    </tr>\n",
              "  </tbody>\n",
              "</table>\n",
              "</div>"
            ],
            "text/plain": [
              "     PassengerId  Survived  Pclass  ...   Fare Cabin  Embarked\n",
              "886          887         0       2  ...  13.00   NaN         S\n",
              "887          888         1       1  ...  30.00   B42         S\n",
              "888          889         0       3  ...  23.45   NaN         S\n",
              "889          890         1       1  ...  30.00  C148         C\n",
              "890          891         0       3  ...   7.75   NaN         Q\n",
              "\n",
              "[5 rows x 12 columns]"
            ]
          },
          "metadata": {
            "tags": []
          },
          "execution_count": 4
        }
      ]
    },
    {
      "cell_type": "code",
      "metadata": {
        "colab": {
          "base_uri": "https://localhost:8080/"
        },
        "id": "GIehFqi4PSom",
        "outputId": "34ccb1f9-6f4b-4eea-9b2d-fea023c88a8b"
      },
      "source": [
        "train.shape"
      ],
      "execution_count": 5,
      "outputs": [
        {
          "output_type": "execute_result",
          "data": {
            "text/plain": [
              "(891, 12)"
            ]
          },
          "metadata": {
            "tags": []
          },
          "execution_count": 5
        }
      ]
    },
    {
      "cell_type": "code",
      "metadata": {
        "colab": {
          "base_uri": "https://localhost:8080/"
        },
        "id": "pExTPj4PPWWo",
        "outputId": "222abe23-2a91-44cf-b8dc-e54ea42ff070"
      },
      "source": [
        "train.info()"
      ],
      "execution_count": 6,
      "outputs": [
        {
          "output_type": "stream",
          "text": [
            "<class 'pandas.core.frame.DataFrame'>\n",
            "RangeIndex: 891 entries, 0 to 890\n",
            "Data columns (total 12 columns):\n",
            " #   Column       Non-Null Count  Dtype  \n",
            "---  ------       --------------  -----  \n",
            " 0   PassengerId  891 non-null    int64  \n",
            " 1   Survived     891 non-null    int64  \n",
            " 2   Pclass       891 non-null    int64  \n",
            " 3   Name         891 non-null    object \n",
            " 4   Sex          891 non-null    object \n",
            " 5   Age          714 non-null    float64\n",
            " 6   SibSp        891 non-null    int64  \n",
            " 7   Parch        891 non-null    int64  \n",
            " 8   Ticket       891 non-null    object \n",
            " 9   Fare         891 non-null    float64\n",
            " 10  Cabin        204 non-null    object \n",
            " 11  Embarked     889 non-null    object \n",
            "dtypes: float64(2), int64(5), object(5)\n",
            "memory usage: 83.7+ KB\n"
          ],
          "name": "stdout"
        }
      ]
    },
    {
      "cell_type": "markdown",
      "metadata": {
        "id": "9jYz7FWs26_v"
      },
      "source": [
        "Importing the Test Data"
      ]
    },
    {
      "cell_type": "code",
      "metadata": {
        "id": "tJ5ApYVC2wX7"
      },
      "source": [
        "test = pd.read_csv('test.csv')"
      ],
      "execution_count": 7,
      "outputs": []
    },
    {
      "cell_type": "code",
      "metadata": {
        "colab": {
          "base_uri": "https://localhost:8080/",
          "height": 0
        },
        "id": "8O5KoHb83K4n",
        "outputId": "60330dd7-ae74-4cb3-95d4-89d59c4e1f45"
      },
      "source": [
        "test.head()"
      ],
      "execution_count": 8,
      "outputs": [
        {
          "output_type": "execute_result",
          "data": {
            "text/html": [
              "<div>\n",
              "<style scoped>\n",
              "    .dataframe tbody tr th:only-of-type {\n",
              "        vertical-align: middle;\n",
              "    }\n",
              "\n",
              "    .dataframe tbody tr th {\n",
              "        vertical-align: top;\n",
              "    }\n",
              "\n",
              "    .dataframe thead th {\n",
              "        text-align: right;\n",
              "    }\n",
              "</style>\n",
              "<table border=\"1\" class=\"dataframe\">\n",
              "  <thead>\n",
              "    <tr style=\"text-align: right;\">\n",
              "      <th></th>\n",
              "      <th>PassengerId</th>\n",
              "      <th>Pclass</th>\n",
              "      <th>Name</th>\n",
              "      <th>Sex</th>\n",
              "      <th>Age</th>\n",
              "      <th>SibSp</th>\n",
              "      <th>Parch</th>\n",
              "      <th>Ticket</th>\n",
              "      <th>Fare</th>\n",
              "      <th>Cabin</th>\n",
              "      <th>Embarked</th>\n",
              "    </tr>\n",
              "  </thead>\n",
              "  <tbody>\n",
              "    <tr>\n",
              "      <th>0</th>\n",
              "      <td>892</td>\n",
              "      <td>3</td>\n",
              "      <td>Kelly, Mr. James</td>\n",
              "      <td>male</td>\n",
              "      <td>34.5</td>\n",
              "      <td>0</td>\n",
              "      <td>0</td>\n",
              "      <td>330911</td>\n",
              "      <td>7.8292</td>\n",
              "      <td>NaN</td>\n",
              "      <td>Q</td>\n",
              "    </tr>\n",
              "    <tr>\n",
              "      <th>1</th>\n",
              "      <td>893</td>\n",
              "      <td>3</td>\n",
              "      <td>Wilkes, Mrs. James (Ellen Needs)</td>\n",
              "      <td>female</td>\n",
              "      <td>47.0</td>\n",
              "      <td>1</td>\n",
              "      <td>0</td>\n",
              "      <td>363272</td>\n",
              "      <td>7.0000</td>\n",
              "      <td>NaN</td>\n",
              "      <td>S</td>\n",
              "    </tr>\n",
              "    <tr>\n",
              "      <th>2</th>\n",
              "      <td>894</td>\n",
              "      <td>2</td>\n",
              "      <td>Myles, Mr. Thomas Francis</td>\n",
              "      <td>male</td>\n",
              "      <td>62.0</td>\n",
              "      <td>0</td>\n",
              "      <td>0</td>\n",
              "      <td>240276</td>\n",
              "      <td>9.6875</td>\n",
              "      <td>NaN</td>\n",
              "      <td>Q</td>\n",
              "    </tr>\n",
              "    <tr>\n",
              "      <th>3</th>\n",
              "      <td>895</td>\n",
              "      <td>3</td>\n",
              "      <td>Wirz, Mr. Albert</td>\n",
              "      <td>male</td>\n",
              "      <td>27.0</td>\n",
              "      <td>0</td>\n",
              "      <td>0</td>\n",
              "      <td>315154</td>\n",
              "      <td>8.6625</td>\n",
              "      <td>NaN</td>\n",
              "      <td>S</td>\n",
              "    </tr>\n",
              "    <tr>\n",
              "      <th>4</th>\n",
              "      <td>896</td>\n",
              "      <td>3</td>\n",
              "      <td>Hirvonen, Mrs. Alexander (Helga E Lindqvist)</td>\n",
              "      <td>female</td>\n",
              "      <td>22.0</td>\n",
              "      <td>1</td>\n",
              "      <td>1</td>\n",
              "      <td>3101298</td>\n",
              "      <td>12.2875</td>\n",
              "      <td>NaN</td>\n",
              "      <td>S</td>\n",
              "    </tr>\n",
              "  </tbody>\n",
              "</table>\n",
              "</div>"
            ],
            "text/plain": [
              "   PassengerId  Pclass  ... Cabin Embarked\n",
              "0          892       3  ...   NaN        Q\n",
              "1          893       3  ...   NaN        S\n",
              "2          894       2  ...   NaN        Q\n",
              "3          895       3  ...   NaN        S\n",
              "4          896       3  ...   NaN        S\n",
              "\n",
              "[5 rows x 11 columns]"
            ]
          },
          "metadata": {
            "tags": []
          },
          "execution_count": 8
        }
      ]
    },
    {
      "cell_type": "code",
      "metadata": {
        "colab": {
          "base_uri": "https://localhost:8080/",
          "height": 0
        },
        "id": "j0gvqsI03NQ0",
        "outputId": "efa0b5c7-309c-483e-edb5-cb001a733625"
      },
      "source": [
        "test.tail()"
      ],
      "execution_count": 9,
      "outputs": [
        {
          "output_type": "execute_result",
          "data": {
            "text/html": [
              "<div>\n",
              "<style scoped>\n",
              "    .dataframe tbody tr th:only-of-type {\n",
              "        vertical-align: middle;\n",
              "    }\n",
              "\n",
              "    .dataframe tbody tr th {\n",
              "        vertical-align: top;\n",
              "    }\n",
              "\n",
              "    .dataframe thead th {\n",
              "        text-align: right;\n",
              "    }\n",
              "</style>\n",
              "<table border=\"1\" class=\"dataframe\">\n",
              "  <thead>\n",
              "    <tr style=\"text-align: right;\">\n",
              "      <th></th>\n",
              "      <th>PassengerId</th>\n",
              "      <th>Pclass</th>\n",
              "      <th>Name</th>\n",
              "      <th>Sex</th>\n",
              "      <th>Age</th>\n",
              "      <th>SibSp</th>\n",
              "      <th>Parch</th>\n",
              "      <th>Ticket</th>\n",
              "      <th>Fare</th>\n",
              "      <th>Cabin</th>\n",
              "      <th>Embarked</th>\n",
              "    </tr>\n",
              "  </thead>\n",
              "  <tbody>\n",
              "    <tr>\n",
              "      <th>413</th>\n",
              "      <td>1305</td>\n",
              "      <td>3</td>\n",
              "      <td>Spector, Mr. Woolf</td>\n",
              "      <td>male</td>\n",
              "      <td>NaN</td>\n",
              "      <td>0</td>\n",
              "      <td>0</td>\n",
              "      <td>A.5. 3236</td>\n",
              "      <td>8.0500</td>\n",
              "      <td>NaN</td>\n",
              "      <td>S</td>\n",
              "    </tr>\n",
              "    <tr>\n",
              "      <th>414</th>\n",
              "      <td>1306</td>\n",
              "      <td>1</td>\n",
              "      <td>Oliva y Ocana, Dona. Fermina</td>\n",
              "      <td>female</td>\n",
              "      <td>39.0</td>\n",
              "      <td>0</td>\n",
              "      <td>0</td>\n",
              "      <td>PC 17758</td>\n",
              "      <td>108.9000</td>\n",
              "      <td>C105</td>\n",
              "      <td>C</td>\n",
              "    </tr>\n",
              "    <tr>\n",
              "      <th>415</th>\n",
              "      <td>1307</td>\n",
              "      <td>3</td>\n",
              "      <td>Saether, Mr. Simon Sivertsen</td>\n",
              "      <td>male</td>\n",
              "      <td>38.5</td>\n",
              "      <td>0</td>\n",
              "      <td>0</td>\n",
              "      <td>SOTON/O.Q. 3101262</td>\n",
              "      <td>7.2500</td>\n",
              "      <td>NaN</td>\n",
              "      <td>S</td>\n",
              "    </tr>\n",
              "    <tr>\n",
              "      <th>416</th>\n",
              "      <td>1308</td>\n",
              "      <td>3</td>\n",
              "      <td>Ware, Mr. Frederick</td>\n",
              "      <td>male</td>\n",
              "      <td>NaN</td>\n",
              "      <td>0</td>\n",
              "      <td>0</td>\n",
              "      <td>359309</td>\n",
              "      <td>8.0500</td>\n",
              "      <td>NaN</td>\n",
              "      <td>S</td>\n",
              "    </tr>\n",
              "    <tr>\n",
              "      <th>417</th>\n",
              "      <td>1309</td>\n",
              "      <td>3</td>\n",
              "      <td>Peter, Master. Michael J</td>\n",
              "      <td>male</td>\n",
              "      <td>NaN</td>\n",
              "      <td>1</td>\n",
              "      <td>1</td>\n",
              "      <td>2668</td>\n",
              "      <td>22.3583</td>\n",
              "      <td>NaN</td>\n",
              "      <td>C</td>\n",
              "    </tr>\n",
              "  </tbody>\n",
              "</table>\n",
              "</div>"
            ],
            "text/plain": [
              "     PassengerId  Pclass                          Name  ...      Fare  Cabin  Embarked\n",
              "413         1305       3            Spector, Mr. Woolf  ...    8.0500    NaN         S\n",
              "414         1306       1  Oliva y Ocana, Dona. Fermina  ...  108.9000   C105         C\n",
              "415         1307       3  Saether, Mr. Simon Sivertsen  ...    7.2500    NaN         S\n",
              "416         1308       3           Ware, Mr. Frederick  ...    8.0500    NaN         S\n",
              "417         1309       3      Peter, Master. Michael J  ...   22.3583    NaN         C\n",
              "\n",
              "[5 rows x 11 columns]"
            ]
          },
          "metadata": {
            "tags": []
          },
          "execution_count": 9
        }
      ]
    },
    {
      "cell_type": "code",
      "metadata": {
        "colab": {
          "base_uri": "https://localhost:8080/"
        },
        "id": "wzgWsuMA3QmM",
        "outputId": "d4250931-4705-4304-e0a0-050081e79998"
      },
      "source": [
        "test.shape"
      ],
      "execution_count": 10,
      "outputs": [
        {
          "output_type": "execute_result",
          "data": {
            "text/plain": [
              "(418, 11)"
            ]
          },
          "metadata": {
            "tags": []
          },
          "execution_count": 10
        }
      ]
    },
    {
      "cell_type": "code",
      "metadata": {
        "colab": {
          "base_uri": "https://localhost:8080/"
        },
        "id": "pzyLYz2h3S1v",
        "outputId": "273028a9-9660-4f68-9416-a6e23fac28e9"
      },
      "source": [
        "test.info()"
      ],
      "execution_count": 11,
      "outputs": [
        {
          "output_type": "stream",
          "text": [
            "<class 'pandas.core.frame.DataFrame'>\n",
            "RangeIndex: 418 entries, 0 to 417\n",
            "Data columns (total 11 columns):\n",
            " #   Column       Non-Null Count  Dtype  \n",
            "---  ------       --------------  -----  \n",
            " 0   PassengerId  418 non-null    int64  \n",
            " 1   Pclass       418 non-null    int64  \n",
            " 2   Name         418 non-null    object \n",
            " 3   Sex          418 non-null    object \n",
            " 4   Age          332 non-null    float64\n",
            " 5   SibSp        418 non-null    int64  \n",
            " 6   Parch        418 non-null    int64  \n",
            " 7   Ticket       418 non-null    object \n",
            " 8   Fare         417 non-null    float64\n",
            " 9   Cabin        91 non-null     object \n",
            " 10  Embarked     418 non-null    object \n",
            "dtypes: float64(2), int64(4), object(5)\n",
            "memory usage: 36.0+ KB\n"
          ],
          "name": "stdout"
        }
      ]
    },
    {
      "cell_type": "markdown",
      "metadata": {
        "id": "ni4HqdSa9VRE"
      },
      "source": [
        "## Data Cleaning"
      ]
    },
    {
      "cell_type": "markdown",
      "metadata": {
        "id": "cm2d4NdWFcVV"
      },
      "source": [
        ">* Finally I dropped the unnecessary columns from my dataset."
      ]
    },
    {
      "cell_type": "code",
      "metadata": {
        "id": "XzRD5_mCP8Vu"
      },
      "source": [
        "train.drop(['Cabin','PassengerId','Name','Ticket'],axis=1,inplace=True)"
      ],
      "execution_count": 12,
      "outputs": []
    },
    {
      "cell_type": "markdown",
      "metadata": {
        "id": "l-KgsSpp3khu"
      },
      "source": [
        ">* I then cleaned both datasets , checking for null entries or duplicated entries in my columns."
      ]
    },
    {
      "cell_type": "code",
      "metadata": {
        "colab": {
          "base_uri": "https://localhost:8080/"
        },
        "id": "wA-VSrGEPnDF",
        "outputId": "e7f6f1cb-77bd-44b9-edd9-1dbb3ed961eb"
      },
      "source": [
        "train.isnull().sum()"
      ],
      "execution_count": 13,
      "outputs": [
        {
          "output_type": "execute_result",
          "data": {
            "text/plain": [
              "Survived      0\n",
              "Pclass        0\n",
              "Sex           0\n",
              "Age         177\n",
              "SibSp         0\n",
              "Parch         0\n",
              "Fare          0\n",
              "Embarked      2\n",
              "dtype: int64"
            ]
          },
          "metadata": {
            "tags": []
          },
          "execution_count": 13
        }
      ]
    },
    {
      "cell_type": "markdown",
      "metadata": {
        "id": "pC_zVA0pDi3-"
      },
      "source": [
        ">* The Age column had 177 null entries.\n",
        ">* I obtained the mean age of the passengers in my dataset by Passenger Class and Sex and then filled the null values on the Age columns with these means."
      ]
    },
    {
      "cell_type": "code",
      "metadata": {
        "colab": {
          "base_uri": "https://localhost:8080/"
        },
        "id": "iJET1MIQ9mSm",
        "outputId": "fe271ff3-08a1-4f94-ebf0-cbb73bcc7b44"
      },
      "source": [
        "train.groupby(['Pclass','Sex'])['Age'].mean()"
      ],
      "execution_count": 14,
      "outputs": [
        {
          "output_type": "execute_result",
          "data": {
            "text/plain": [
              "Pclass  Sex   \n",
              "1       female    34.611765\n",
              "        male      41.281386\n",
              "2       female    28.722973\n",
              "        male      30.740707\n",
              "3       female    21.750000\n",
              "        male      26.507589\n",
              "Name: Age, dtype: float64"
            ]
          },
          "metadata": {
            "tags": []
          },
          "execution_count": 14
        }
      ]
    },
    {
      "cell_type": "code",
      "metadata": {
        "id": "iInYzhTORMQ4"
      },
      "source": [
        "def age_approx(cols):\n",
        "    Age = cols[0]\n",
        "    Pclass = cols[1]\n",
        "    Sex = cols[2]\n",
        "    if pd.isnull(Age):\n",
        "        if (Pclass == 1) & (Sex == 'female') :\n",
        "            return 34\n",
        "        elif (Pclass == 1) and (Sex == 'male'):\n",
        "            return 41\n",
        "        elif (Pclass == 2 ) and (Sex == 'female'):\n",
        "          return 28\n",
        "        elif (Pclass == 2) and (Sex == 'male'):\n",
        "          return 30\n",
        "        elif (Pclass == 3) and (Sex == 'female'):\n",
        "          return 22\n",
        "        elif (Pclass == 3) and (Sex == 'male'):\n",
        "          return 22\n",
        "    else:\n",
        "        return Age\n",
        "\n",
        "        "
      ],
      "execution_count": 15,
      "outputs": []
    },
    {
      "cell_type": "code",
      "metadata": {
        "id": "pEReETNZRYpy"
      },
      "source": [
        "train['Age'] = train[['Age', 'Pclass','Sex']].apply(age_approx, axis=1)"
      ],
      "execution_count": 16,
      "outputs": []
    },
    {
      "cell_type": "code",
      "metadata": {
        "colab": {
          "base_uri": "https://localhost:8080/"
        },
        "id": "Es0t_37KOZsX",
        "outputId": "49141789-c66a-429f-9422-489f54ff3d90"
      },
      "source": [
        "train.info()"
      ],
      "execution_count": 17,
      "outputs": [
        {
          "output_type": "stream",
          "text": [
            "<class 'pandas.core.frame.DataFrame'>\n",
            "RangeIndex: 891 entries, 0 to 890\n",
            "Data columns (total 8 columns):\n",
            " #   Column    Non-Null Count  Dtype  \n",
            "---  ------    --------------  -----  \n",
            " 0   Survived  891 non-null    int64  \n",
            " 1   Pclass    891 non-null    int64  \n",
            " 2   Sex       891 non-null    object \n",
            " 3   Age       891 non-null    float64\n",
            " 4   SibSp     891 non-null    int64  \n",
            " 5   Parch     891 non-null    int64  \n",
            " 6   Fare      891 non-null    float64\n",
            " 7   Embarked  889 non-null    object \n",
            "dtypes: float64(2), int64(4), object(2)\n",
            "memory usage: 55.8+ KB\n"
          ],
          "name": "stdout"
        }
      ]
    },
    {
      "cell_type": "markdown",
      "metadata": {
        "id": "MoL_jxdVD0Qt"
      },
      "source": [
        ">* Finally I dropped any null entries that were still within my dataset."
      ]
    },
    {
      "cell_type": "code",
      "metadata": {
        "id": "zFEeH0MQSxAJ"
      },
      "source": [
        "train.dropna(inplace=True)"
      ],
      "execution_count": 18,
      "outputs": []
    },
    {
      "cell_type": "markdown",
      "metadata": {
        "id": "FX_7iG5CFSwK"
      },
      "source": [
        ">* I then looked for duplicated values in the dataset."
      ]
    },
    {
      "cell_type": "code",
      "metadata": {
        "colab": {
          "base_uri": "https://localhost:8080/"
        },
        "id": "a4YZqinIPtND",
        "outputId": "c1e426a2-7fe8-4021-ccfb-77e88dcf7653"
      },
      "source": [
        "train.duplicated().sum()"
      ],
      "execution_count": 19,
      "outputs": [
        {
          "output_type": "execute_result",
          "data": {
            "text/plain": [
              "116"
            ]
          },
          "metadata": {
            "tags": []
          },
          "execution_count": 19
        }
      ]
    },
    {
      "cell_type": "code",
      "metadata": {
        "colab": {
          "base_uri": "https://localhost:8080/"
        },
        "id": "uUyIAYGv38i5",
        "outputId": "9c4b6e24-8abb-4f3d-d026-764998ee7aae"
      },
      "source": [
        "train.isnull().sum().sum()"
      ],
      "execution_count": 20,
      "outputs": [
        {
          "output_type": "execute_result",
          "data": {
            "text/plain": [
              "0"
            ]
          },
          "metadata": {
            "tags": []
          },
          "execution_count": 20
        }
      ]
    },
    {
      "cell_type": "markdown",
      "metadata": {
        "id": "SEBmJg459odM"
      },
      "source": [
        "## Exploratory Data Analysis"
      ]
    },
    {
      "cell_type": "code",
      "metadata": {
        "colab": {
          "base_uri": "https://localhost:8080/",
          "height": 0
        },
        "id": "OxELUId6SIPa",
        "outputId": "b6d8dbc3-30e1-4291-fdb3-e54468b91518"
      },
      "source": [
        "train.describe()"
      ],
      "execution_count": 21,
      "outputs": [
        {
          "output_type": "execute_result",
          "data": {
            "text/html": [
              "<div>\n",
              "<style scoped>\n",
              "    .dataframe tbody tr th:only-of-type {\n",
              "        vertical-align: middle;\n",
              "    }\n",
              "\n",
              "    .dataframe tbody tr th {\n",
              "        vertical-align: top;\n",
              "    }\n",
              "\n",
              "    .dataframe thead th {\n",
              "        text-align: right;\n",
              "    }\n",
              "</style>\n",
              "<table border=\"1\" class=\"dataframe\">\n",
              "  <thead>\n",
              "    <tr style=\"text-align: right;\">\n",
              "      <th></th>\n",
              "      <th>Survived</th>\n",
              "      <th>Pclass</th>\n",
              "      <th>Age</th>\n",
              "      <th>SibSp</th>\n",
              "      <th>Parch</th>\n",
              "      <th>Fare</th>\n",
              "    </tr>\n",
              "  </thead>\n",
              "  <tbody>\n",
              "    <tr>\n",
              "      <th>count</th>\n",
              "      <td>889.000000</td>\n",
              "      <td>889.000000</td>\n",
              "      <td>889.000000</td>\n",
              "      <td>889.000000</td>\n",
              "      <td>889.000000</td>\n",
              "      <td>889.000000</td>\n",
              "    </tr>\n",
              "    <tr>\n",
              "      <th>mean</th>\n",
              "      <td>0.382452</td>\n",
              "      <td>2.311586</td>\n",
              "      <td>28.785343</td>\n",
              "      <td>0.524184</td>\n",
              "      <td>0.382452</td>\n",
              "      <td>32.096681</td>\n",
              "    </tr>\n",
              "    <tr>\n",
              "      <th>std</th>\n",
              "      <td>0.486260</td>\n",
              "      <td>0.834700</td>\n",
              "      <td>13.402915</td>\n",
              "      <td>1.103705</td>\n",
              "      <td>0.806761</td>\n",
              "      <td>49.697504</td>\n",
              "    </tr>\n",
              "    <tr>\n",
              "      <th>min</th>\n",
              "      <td>0.000000</td>\n",
              "      <td>1.000000</td>\n",
              "      <td>0.420000</td>\n",
              "      <td>0.000000</td>\n",
              "      <td>0.000000</td>\n",
              "      <td>0.000000</td>\n",
              "    </tr>\n",
              "    <tr>\n",
              "      <th>25%</th>\n",
              "      <td>0.000000</td>\n",
              "      <td>2.000000</td>\n",
              "      <td>22.000000</td>\n",
              "      <td>0.000000</td>\n",
              "      <td>0.000000</td>\n",
              "      <td>7.895800</td>\n",
              "    </tr>\n",
              "    <tr>\n",
              "      <th>50%</th>\n",
              "      <td>0.000000</td>\n",
              "      <td>3.000000</td>\n",
              "      <td>26.000000</td>\n",
              "      <td>0.000000</td>\n",
              "      <td>0.000000</td>\n",
              "      <td>14.454200</td>\n",
              "    </tr>\n",
              "    <tr>\n",
              "      <th>75%</th>\n",
              "      <td>1.000000</td>\n",
              "      <td>3.000000</td>\n",
              "      <td>36.000000</td>\n",
              "      <td>1.000000</td>\n",
              "      <td>0.000000</td>\n",
              "      <td>31.000000</td>\n",
              "    </tr>\n",
              "    <tr>\n",
              "      <th>max</th>\n",
              "      <td>1.000000</td>\n",
              "      <td>3.000000</td>\n",
              "      <td>80.000000</td>\n",
              "      <td>8.000000</td>\n",
              "      <td>6.000000</td>\n",
              "      <td>512.329200</td>\n",
              "    </tr>\n",
              "  </tbody>\n",
              "</table>\n",
              "</div>"
            ],
            "text/plain": [
              "         Survived      Pclass         Age       SibSp       Parch        Fare\n",
              "count  889.000000  889.000000  889.000000  889.000000  889.000000  889.000000\n",
              "mean     0.382452    2.311586   28.785343    0.524184    0.382452   32.096681\n",
              "std      0.486260    0.834700   13.402915    1.103705    0.806761   49.697504\n",
              "min      0.000000    1.000000    0.420000    0.000000    0.000000    0.000000\n",
              "25%      0.000000    2.000000   22.000000    0.000000    0.000000    7.895800\n",
              "50%      0.000000    3.000000   26.000000    0.000000    0.000000   14.454200\n",
              "75%      1.000000    3.000000   36.000000    1.000000    0.000000   31.000000\n",
              "max      1.000000    3.000000   80.000000    8.000000    6.000000  512.329200"
            ]
          },
          "metadata": {
            "tags": []
          },
          "execution_count": 21
        }
      ]
    },
    {
      "cell_type": "markdown",
      "metadata": {
        "id": "opapHCQf4GM9"
      },
      "source": [
        ">* I then carried out my EDA on the Training Dataset that I would then use to build the model."
      ]
    },
    {
      "cell_type": "code",
      "metadata": {
        "colab": {
          "base_uri": "https://localhost:8080/",
          "height": 0
        },
        "id": "jxdY1EF5CvyJ",
        "outputId": "caffac9a-ffd6-430b-afe5-c785778693e9"
      },
      "source": [
        "train.hist(figsize=(20,20))"
      ],
      "execution_count": 22,
      "outputs": [
        {
          "output_type": "execute_result",
          "data": {
            "text/plain": [
              "array([[<matplotlib.axes._subplots.AxesSubplot object at 0x7f452aba0cc0>,\n",
              "        <matplotlib.axes._subplots.AxesSubplot object at 0x7f452ab7f390>],\n",
              "       [<matplotlib.axes._subplots.AxesSubplot object at 0x7f452ab319e8>,\n",
              "        <matplotlib.axes._subplots.AxesSubplot object at 0x7f452aaee048>],\n",
              "       [<matplotlib.axes._subplots.AxesSubplot object at 0x7f452aa9c6d8>,\n",
              "        <matplotlib.axes._subplots.AxesSubplot object at 0x7f452aaccd30>]],\n",
              "      dtype=object)"
            ]
          },
          "metadata": {
            "tags": []
          },
          "execution_count": 22
        },
        {
          "output_type": "display_data",
          "data": {
            "image/png": "[encoded data removed]",
            "text/plain": [
              "<Figure size 1440x1440 with 6 Axes>"
            ]
          },
          "metadata": {
            "tags": [],
            "needs_background": "light"
          }
        }
      ]
    },
    {
      "cell_type": "code",
      "metadata": {
        "colab": {
          "base_uri": "https://localhost:8080/"
        },
        "id": "CoUd9aYyT3J2",
        "outputId": "2802ce27-7d69-483b-8445-176d1a4ce65f"
      },
      "source": [
        "train.info()"
      ],
      "execution_count": 23,
      "outputs": [
        {
          "output_type": "stream",
          "text": [
            "<class 'pandas.core.frame.DataFrame'>\n",
            "Int64Index: 889 entries, 0 to 890\n",
            "Data columns (total 8 columns):\n",
            " #   Column    Non-Null Count  Dtype  \n",
            "---  ------    --------------  -----  \n",
            " 0   Survived  889 non-null    int64  \n",
            " 1   Pclass    889 non-null    int64  \n",
            " 2   Sex       889 non-null    object \n",
            " 3   Age       889 non-null    float64\n",
            " 4   SibSp     889 non-null    int64  \n",
            " 5   Parch     889 non-null    int64  \n",
            " 6   Fare      889 non-null    float64\n",
            " 7   Embarked  889 non-null    object \n",
            "dtypes: float64(2), int64(4), object(2)\n",
            "memory usage: 62.5+ KB\n"
          ],
          "name": "stdout"
        }
      ]
    },
    {
      "cell_type": "markdown",
      "metadata": {
        "id": "Wiig0G1K-_JX"
      },
      "source": [
        ">* Next I plotted countplots for my categorical variables."
      ]
    },
    {
      "cell_type": "code",
      "metadata": {
        "colab": {
          "base_uri": "https://localhost:8080/",
          "height": 0
        },
        "id": "THNFq9Lmo05G",
        "outputId": "be491806-1c33-4c32-a759-848e946a8214"
      },
      "source": [
        "sns.countplot(x = \"Survived\",data = train)"
      ],
      "execution_count": 24,
      "outputs": [
        {
          "output_type": "execute_result",
          "data": {
            "text/plain": [
              "<matplotlib.axes._subplots.AxesSubplot at 0x7f452a418240>"
            ]
          },
          "metadata": {
            "tags": []
          },
          "execution_count": 24
        },
        {
          "output_type": "display_data",
          "data": {
            "image/png": "[encoded data removed]",
            "text/plain": [
              "<Figure size 432x288 with 1 Axes>"
            ]
          },
          "metadata": {
            "tags": [],
            "needs_background": "light"
          }
        }
      ]
    },
    {
      "cell_type": "code",
      "metadata": {
        "colab": {
          "base_uri": "https://localhost:8080/",
          "height": 0
        },
        "id": "tcw1OujGSgvl",
        "outputId": "9f0de697-80c7-4f8d-bf44-5a8f84d67f52"
      },
      "source": [
        "sns.countplot(x = \"Embarked\",data = train)"
      ],
      "execution_count": 25,
      "outputs": [
        {
          "output_type": "execute_result",
          "data": {
            "text/plain": [
              "<matplotlib.axes._subplots.AxesSubplot at 0x7f452a3f34a8>"
            ]
          },
          "metadata": {
            "tags": []
          },
          "execution_count": 25
        },
        {
          "output_type": "display_data",
          "data": {
            "image/png": "[encoded data removed]",
            "text/plain": [
              "<Figure size 432x288 with 1 Axes>"
            ]
          },
          "metadata": {
            "tags": [],
            "needs_background": "light"
          }
        }
      ]
    },
    {
      "cell_type": "code",
      "metadata": {
        "colab": {
          "base_uri": "https://localhost:8080/",
          "height": 0
        },
        "id": "UZvKOLQ3pGBA",
        "outputId": "ca2d05bc-5ab2-4eba-bd7f-983a404be3d4"
      },
      "source": [
        "sns.countplot(x = \"Pclass\",data = train)"
      ],
      "execution_count": 26,
      "outputs": [
        {
          "output_type": "execute_result",
          "data": {
            "text/plain": [
              "<matplotlib.axes._subplots.AxesSubplot at 0x7f452a34b208>"
            ]
          },
          "metadata": {
            "tags": []
          },
          "execution_count": 26
        },
        {
          "output_type": "display_data",
          "data": {
            "image/png": "[encoded data removed]",
            "text/plain": [
              "<Figure size 432x288 with 1 Axes>"
            ]
          },
          "metadata": {
            "tags": [],
            "needs_background": "light"
          }
        }
      ]
    },
    {
      "cell_type": "code",
      "metadata": {
        "colab": {
          "base_uri": "https://localhost:8080/",
          "height": 0
        },
        "id": "NU-YORm0TcDf",
        "outputId": "bf6673a8-4a14-4c06-a032-871653511d12"
      },
      "source": [
        "sns.countplot(x = \"Sex\",data = train)"
      ],
      "execution_count": 27,
      "outputs": [
        {
          "output_type": "execute_result",
          "data": {
            "text/plain": [
              "<matplotlib.axes._subplots.AxesSubplot at 0x7f452a318780>"
            ]
          },
          "metadata": {
            "tags": []
          },
          "execution_count": 27
        },
        {
          "output_type": "display_data",
          "data": {
            "image/png": "[encoded data removed]",
            "text/plain": [
              "<Figure size 432x288 with 1 Axes>"
            ]
          },
          "metadata": {
            "tags": [],
            "needs_background": "light"
          }
        }
      ]
    },
    {
      "cell_type": "markdown",
      "metadata": {
        "id": "umuXy0sB_LXz"
      },
      "source": [
        ">* From the countplots I made the observation that :\n",
        ">     * Majority of the passengers were male\n",
        ">     * Many of the Passengers had embarked from Southampton\n",
        ">     * Many of the Passengers didnot survive the Incident\n",
        ">     * Majority of the Passengers on the Titanic were in the third class."
      ]
    },
    {
      "cell_type": "code",
      "metadata": {
        "colab": {
          "base_uri": "https://localhost:8080/",
          "height": 0
        },
        "id": "cDvWDC3DrbU3",
        "outputId": "8960ba91-e769-4539-dab8-535064e70287"
      },
      "source": [
        "sns.countplot(x=train[\"Sex\"],hue = train[\"Survived\"],data = train)\n",
        "plt.title('Frequency Plots of  Passengers who Survived based on Gender')"
      ],
      "execution_count": 28,
      "outputs": [
        {
          "output_type": "execute_result",
          "data": {
            "text/plain": [
              "Text(0.5, 1.0, 'Frequency Plots of  Passengers who Survived based on Gender')"
            ]
          },
          "metadata": {
            "tags": []
          },
          "execution_count": 28
        },
        {
          "output_type": "display_data",
          "data": {
            "image/png": "[encoded data removed]",
            "text/plain": [
              "<Figure size 432x288 with 1 Axes>"
            ]
          },
          "metadata": {
            "tags": [],
            "needs_background": "light"
          }
        }
      ]
    },
    {
      "cell_type": "code",
      "metadata": {
        "colab": {
          "base_uri": "https://localhost:8080/",
          "height": 0
        },
        "id": "Okni7U0VDyyw",
        "outputId": "70ebb64b-f57e-45f4-e06c-d7b76ceafc6e"
      },
      "source": [
        "sns.countplot(x=train[\"Pclass\"],hue = train[\"Survived\"],data = train)\n",
        "plt.title('Frequency plots of Passengers who Survived on the Titanic by Gender')"
      ],
      "execution_count": 29,
      "outputs": [
        {
          "output_type": "execute_result",
          "data": {
            "text/plain": [
              "Text(0.5, 1.0, 'Frequency plots of Passengers who Survived on the Titanic by Gender')"
            ]
          },
          "metadata": {
            "tags": []
          },
          "execution_count": 29
        },
        {
          "output_type": "display_data",
          "data": {
            "image/png": "[encoded data removed]",
            "text/plain": [
              "<Figure size 432x288 with 1 Axes>"
            ]
          },
          "metadata": {
            "tags": [],
            "needs_background": "light"
          }
        }
      ]
    },
    {
      "cell_type": "markdown",
      "metadata": {
        "id": "rXC-OLwWBzgu"
      },
      "source": [
        ">* I  the first class more passengers survived compared to those that died whereas in the other Passenger classes the converse is true."
      ]
    },
    {
      "cell_type": "code",
      "metadata": {
        "colab": {
          "base_uri": "https://localhost:8080/",
          "height": 0
        },
        "id": "HudS75VDrVM6",
        "outputId": "9f10efe9-9407-4018-e714-08e5bf49a8b6"
      },
      "source": [
        "sns.countplot(x=train[\"Pclass\"],hue = train[\"Sex\"],data = train)\n",
        "plt.title('Frequency plots of Passenger Class on the Titanic by Gender')"
      ],
      "execution_count": 30,
      "outputs": [
        {
          "output_type": "execute_result",
          "data": {
            "text/plain": [
              "Text(0.5, 1.0, 'Frequency plots of Passenger Class on the Titanic by Gender')"
            ]
          },
          "metadata": {
            "tags": []
          },
          "execution_count": 30
        },
        {
          "output_type": "display_data",
          "data": {
            "image/png": "[encoded data removed]",
            "text/plain": [
              "<Figure size 432x288 with 1 Axes>"
            ]
          },
          "metadata": {
            "tags": [],
            "needs_background": "light"
          }
        }
      ]
    },
    {
      "cell_type": "markdown",
      "metadata": {
        "id": "XX0NEvXtCOXs"
      },
      "source": [
        ">* Many of the Passengers in the third class were male.\n",
        "Furthermore most of the Passenegers in the Titanic were in the third class."
      ]
    },
    {
      "cell_type": "code",
      "metadata": {
        "colab": {
          "base_uri": "https://localhost:8080/",
          "height": 0
        },
        "id": "0Z8hUntCHeys",
        "outputId": "1e52945c-9586-4814-fc18-5c8c026e13bf"
      },
      "source": [
        "sns.countplot(x=train[\"Embarked\"],hue = train[\"Survived\"],data = train)\n",
        "plt.title('Frequency plots of Passengers on the Titanic based on the location they Embarked from')"
      ],
      "execution_count": 31,
      "outputs": [
        {
          "output_type": "execute_result",
          "data": {
            "text/plain": [
              "Text(0.5, 1.0, 'Frequency plots of Passengers on the Titanic based on the location they Embarked from')"
            ]
          },
          "metadata": {
            "tags": []
          },
          "execution_count": 31
        },
        {
          "output_type": "display_data",
          "data": {
            "image/png": "[encoded data removed]",
            "text/plain": [
              "<Figure size 432x288 with 1 Axes>"
            ]
          },
          "metadata": {
            "tags": [],
            "needs_background": "light"
          }
        }
      ]
    },
    {
      "cell_type": "markdown",
      "metadata": {
        "id": "L5CqXIeOBZgG"
      },
      "source": [
        ">* I then plotted pairplots for the continuous variables in my dataset."
      ]
    },
    {
      "cell_type": "code",
      "metadata": {
        "id": "_clCqiSTELYZ",
        "colab": {
          "base_uri": "https://localhost:8080/",
          "height": 0
        },
        "outputId": "ca52ac15-fc5b-4866-f8e3-4313ae47770c"
      },
      "source": [
        "sns.pairplot(train[[\"Survived\",\"Pclass\",\"Fare\",\"Age\"]], hue=\"Survived\", height=3);\n",
        "plt.show()"
      ],
      "execution_count": 32,
      "outputs": [
        {
          "output_type": "display_data",
          "data": {
            "image/png": "[encoded data removed]",
            "text/plain": [
              "<Figure size 699.875x648 with 12 Axes>"
            ]
          },
          "metadata": {
            "tags": [],
            "needs_background": "light"
          }
        }
      ]
    },
    {
      "cell_type": "code",
      "metadata": {
        "colab": {
          "base_uri": "https://localhost:8080/",
          "height": 0
        },
        "id": "SLU9keMiRt1G",
        "outputId": "785f8e63-709e-44a7-a8b5-cad91c36e555"
      },
      "source": [
        "# Plotting a boxplot for Passenger class and Age\n",
        "sns.boxplot(x='Pclass', y='Age', data=train, palette='hls')"
      ],
      "execution_count": 33,
      "outputs": [
        {
          "output_type": "execute_result",
          "data": {
            "text/plain": [
              "<matplotlib.axes._subplots.AxesSubplot at 0x7f45274d7198>"
            ]
          },
          "metadata": {
            "tags": []
          },
          "execution_count": 33
        },
        {
          "output_type": "display_data",
          "data": {
            "image/png": "[encoded data removed]",
            "text/plain": [
              "<Figure size 432x288 with 1 Axes>"
            ]
          },
          "metadata": {
            "tags": [],
            "needs_background": "light"
          }
        }
      ]
    },
    {
      "cell_type": "code",
      "metadata": {
        "colab": {
          "base_uri": "https://localhost:8080/",
          "height": 0
        },
        "id": "V835PPCul1mi",
        "outputId": "20f2a3f3-0cba-4207-eff0-265953431dbd"
      },
      "source": [
        "grid = sns.FacetGrid(train, col='Survived', row='Pclass', height=3, aspect=2)\n",
        "grid.map(plt.hist, 'Age', bins=10)\n",
        "grid.add_legend()"
      ],
      "execution_count": 34,
      "outputs": [
        {
          "output_type": "execute_result",
          "data": {
            "text/plain": [
              "<seaborn.axisgrid.FacetGrid at 0x7f4525cc47f0>"
            ]
          },
          "metadata": {
            "tags": []
          },
          "execution_count": 34
        },
        {
          "output_type": "display_data",
          "data": {
            "image/png": "[encoded data removed]",
            "text/plain": [
              "<Figure size 872x648 with 6 Axes>"
            ]
          },
          "metadata": {
            "tags": [],
            "needs_background": "light"
          }
        }
      ]
    },
    {
      "cell_type": "markdown",
      "metadata": {
        "id": "2pW57fBmCwLv"
      },
      "source": [
        ">* Majority of the Passengers in the Third class lost their lives , these passengers were mostly between 20-30 years old.\n",
        ">* The first class had the most survivors. These passenegrs were between 30-40 years old."
      ]
    },
    {
      "cell_type": "markdown",
      "metadata": {
        "id": "PKG-_dJ4R2K6"
      },
      "source": [
        "Feature Engineering"
      ]
    },
    {
      "cell_type": "markdown",
      "metadata": {
        "id": "cQdjFe_ZfAE0"
      },
      "source": [
        ">* I one hot encoded the Sex and Embarked columns of the Dataset."
      ]
    },
    {
      "cell_type": "code",
      "metadata": {
        "colab": {
          "base_uri": "https://localhost:8080/",
          "height": 0
        },
        "id": "udSMBEfiRZhG",
        "outputId": "72509378-b5f4-43e4-9f2f-e2b091078db1"
      },
      "source": [
        "train.head()"
      ],
      "execution_count": 35,
      "outputs": [
        {
          "output_type": "execute_result",
          "data": {
            "text/html": [
              "<div>\n",
              "<style scoped>\n",
              "    .dataframe tbody tr th:only-of-type {\n",
              "        vertical-align: middle;\n",
              "    }\n",
              "\n",
              "    .dataframe tbody tr th {\n",
              "        vertical-align: top;\n",
              "    }\n",
              "\n",
              "    .dataframe thead th {\n",
              "        text-align: right;\n",
              "    }\n",
              "</style>\n",
              "<table border=\"1\" class=\"dataframe\">\n",
              "  <thead>\n",
              "    <tr style=\"text-align: right;\">\n",
              "      <th></th>\n",
              "      <th>Survived</th>\n",
              "      <th>Pclass</th>\n",
              "      <th>Sex</th>\n",
              "      <th>Age</th>\n",
              "      <th>SibSp</th>\n",
              "      <th>Parch</th>\n",
              "      <th>Fare</th>\n",
              "      <th>Embarked</th>\n",
              "    </tr>\n",
              "  </thead>\n",
              "  <tbody>\n",
              "    <tr>\n",
              "      <th>0</th>\n",
              "      <td>0</td>\n",
              "      <td>3</td>\n",
              "      <td>male</td>\n",
              "      <td>22.0</td>\n",
              "      <td>1</td>\n",
              "      <td>0</td>\n",
              "      <td>7.2500</td>\n",
              "      <td>S</td>\n",
              "    </tr>\n",
              "    <tr>\n",
              "      <th>1</th>\n",
              "      <td>1</td>\n",
              "      <td>1</td>\n",
              "      <td>female</td>\n",
              "      <td>38.0</td>\n",
              "      <td>1</td>\n",
              "      <td>0</td>\n",
              "      <td>71.2833</td>\n",
              "      <td>C</td>\n",
              "    </tr>\n",
              "    <tr>\n",
              "      <th>2</th>\n",
              "      <td>1</td>\n",
              "      <td>3</td>\n",
              "      <td>female</td>\n",
              "      <td>26.0</td>\n",
              "      <td>0</td>\n",
              "      <td>0</td>\n",
              "      <td>7.9250</td>\n",
              "      <td>S</td>\n",
              "    </tr>\n",
              "    <tr>\n",
              "      <th>3</th>\n",
              "      <td>1</td>\n",
              "      <td>1</td>\n",
              "      <td>female</td>\n",
              "      <td>35.0</td>\n",
              "      <td>1</td>\n",
              "      <td>0</td>\n",
              "      <td>53.1000</td>\n",
              "      <td>S</td>\n",
              "    </tr>\n",
              "    <tr>\n",
              "      <th>4</th>\n",
              "      <td>0</td>\n",
              "      <td>3</td>\n",
              "      <td>male</td>\n",
              "      <td>35.0</td>\n",
              "      <td>0</td>\n",
              "      <td>0</td>\n",
              "      <td>8.0500</td>\n",
              "      <td>S</td>\n",
              "    </tr>\n",
              "  </tbody>\n",
              "</table>\n",
              "</div>"
            ],
            "text/plain": [
              "   Survived  Pclass     Sex   Age  SibSp  Parch     Fare Embarked\n",
              "0         0       3    male  22.0      1      0   7.2500        S\n",
              "1         1       1  female  38.0      1      0  71.2833        C\n",
              "2         1       3  female  26.0      0      0   7.9250        S\n",
              "3         1       1  female  35.0      1      0  53.1000        S\n",
              "4         0       3    male  35.0      0      0   8.0500        S"
            ]
          },
          "metadata": {
            "tags": []
          },
          "execution_count": 35
        }
      ]
    },
    {
      "cell_type": "code",
      "metadata": {
        "id": "tZ0LyYLcTkXp"
      },
      "source": [
        "dummies = pd.get_dummies(train[['Embarked','Sex']],drop_first=True)"
      ],
      "execution_count": 36,
      "outputs": []
    },
    {
      "cell_type": "code",
      "metadata": {
        "id": "XrW12npeT5Qv"
      },
      "source": [
        "train = pd.concat([train,dummies],axis=1)"
      ],
      "execution_count": 37,
      "outputs": []
    },
    {
      "cell_type": "code",
      "metadata": {
        "id": "ju-W3xeIUEPC"
      },
      "source": [
        "train.drop(['Embarked','Sex'],axis=1,inplace=True)"
      ],
      "execution_count": 38,
      "outputs": []
    },
    {
      "cell_type": "code",
      "metadata": {
        "colab": {
          "base_uri": "https://localhost:8080/",
          "height": 0
        },
        "id": "qKF8c8aFUNiI",
        "outputId": "84da0939-5a19-4779-85ec-d28b35843ead"
      },
      "source": [
        "train.head()"
      ],
      "execution_count": 39,
      "outputs": [
        {
          "output_type": "execute_result",
          "data": {
            "text/html": [
              "<div>\n",
              "<style scoped>\n",
              "    .dataframe tbody tr th:only-of-type {\n",
              "        vertical-align: middle;\n",
              "    }\n",
              "\n",
              "    .dataframe tbody tr th {\n",
              "        vertical-align: top;\n",
              "    }\n",
              "\n",
              "    .dataframe thead th {\n",
              "        text-align: right;\n",
              "    }\n",
              "</style>\n",
              "<table border=\"1\" class=\"dataframe\">\n",
              "  <thead>\n",
              "    <tr style=\"text-align: right;\">\n",
              "      <th></th>\n",
              "      <th>Survived</th>\n",
              "      <th>Pclass</th>\n",
              "      <th>Age</th>\n",
              "      <th>SibSp</th>\n",
              "      <th>Parch</th>\n",
              "      <th>Fare</th>\n",
              "      <th>Embarked_Q</th>\n",
              "      <th>Embarked_S</th>\n",
              "      <th>Sex_male</th>\n",
              "    </tr>\n",
              "  </thead>\n",
              "  <tbody>\n",
              "    <tr>\n",
              "      <th>0</th>\n",
              "      <td>0</td>\n",
              "      <td>3</td>\n",
              "      <td>22.0</td>\n",
              "      <td>1</td>\n",
              "      <td>0</td>\n",
              "      <td>7.2500</td>\n",
              "      <td>0</td>\n",
              "      <td>1</td>\n",
              "      <td>1</td>\n",
              "    </tr>\n",
              "    <tr>\n",
              "      <th>1</th>\n",
              "      <td>1</td>\n",
              "      <td>1</td>\n",
              "      <td>38.0</td>\n",
              "      <td>1</td>\n",
              "      <td>0</td>\n",
              "      <td>71.2833</td>\n",
              "      <td>0</td>\n",
              "      <td>0</td>\n",
              "      <td>0</td>\n",
              "    </tr>\n",
              "    <tr>\n",
              "      <th>2</th>\n",
              "      <td>1</td>\n",
              "      <td>3</td>\n",
              "      <td>26.0</td>\n",
              "      <td>0</td>\n",
              "      <td>0</td>\n",
              "      <td>7.9250</td>\n",
              "      <td>0</td>\n",
              "      <td>1</td>\n",
              "      <td>0</td>\n",
              "    </tr>\n",
              "    <tr>\n",
              "      <th>3</th>\n",
              "      <td>1</td>\n",
              "      <td>1</td>\n",
              "      <td>35.0</td>\n",
              "      <td>1</td>\n",
              "      <td>0</td>\n",
              "      <td>53.1000</td>\n",
              "      <td>0</td>\n",
              "      <td>1</td>\n",
              "      <td>0</td>\n",
              "    </tr>\n",
              "    <tr>\n",
              "      <th>4</th>\n",
              "      <td>0</td>\n",
              "      <td>3</td>\n",
              "      <td>35.0</td>\n",
              "      <td>0</td>\n",
              "      <td>0</td>\n",
              "      <td>8.0500</td>\n",
              "      <td>0</td>\n",
              "      <td>1</td>\n",
              "      <td>1</td>\n",
              "    </tr>\n",
              "  </tbody>\n",
              "</table>\n",
              "</div>"
            ],
            "text/plain": [
              "   Survived  Pclass   Age  SibSp  ...     Fare  Embarked_Q  Embarked_S  Sex_male\n",
              "0         0       3  22.0      1  ...   7.2500           0           1         1\n",
              "1         1       1  38.0      1  ...  71.2833           0           0         0\n",
              "2         1       3  26.0      0  ...   7.9250           0           1         0\n",
              "3         1       1  35.0      1  ...  53.1000           0           1         0\n",
              "4         0       3  35.0      0  ...   8.0500           0           1         1\n",
              "\n",
              "[5 rows x 9 columns]"
            ]
          },
          "metadata": {
            "tags": []
          },
          "execution_count": 39
        }
      ]
    },
    {
      "cell_type": "markdown",
      "metadata": {
        "id": "KsKWpGUzgXyS"
      },
      "source": [
        "## Building the KNN model 80:20"
      ]
    },
    {
      "cell_type": "markdown",
      "metadata": {
        "id": "CEk4n6fofMXM"
      },
      "source": [
        ">* I defined my Target and Features and split  the data with an 80:20 split.\n",
        ">* Then I fit a KNN model."
      ]
    },
    {
      "cell_type": "code",
      "metadata": {
        "id": "iyENEJHwVdsj"
      },
      "source": [
        "#X = train.drop('Survived',axis=1)\n",
        "X = train[['Pclass',\t'Age',\t'SibSp',\t'Parch',\t'Fare',\t'Embarked_Q',\t'Embarked_S',\t'Sex_male']].values\n",
        "y = train.Survived.values\n",
        "X_train,X_test,y_train,y_test = train_test_split(X,y,test_size=0.2)"
      ],
      "execution_count": 79,
      "outputs": []
    },
    {
      "cell_type": "code",
      "metadata": {
        "colab": {
          "base_uri": "https://localhost:8080/"
        },
        "id": "b0sSBhXjWCGj",
        "outputId": "76063cec-0218-4f5a-ec58-41d74d452838"
      },
      "source": [
        "knn = KNeighborsClassifier()\n",
        "knn = knn.fit(X_train,y_train)\n",
        "y_pred = knn.predict(X_test)\n",
        "accuracy_score(y_test,y_pred)"
      ],
      "execution_count": 80,
      "outputs": [
        {
          "output_type": "execute_result",
          "data": {
            "text/plain": [
              "0.7303370786516854"
            ]
          },
          "metadata": {
            "tags": []
          },
          "execution_count": 80
        }
      ]
    },
    {
      "cell_type": "markdown",
      "metadata": {
        "id": "NvluGc4Pfa_4"
      },
      "source": [
        ">* The accuracy score for my model was low therefore I scaled the data using Standard Scaler and fit the model again."
      ]
    },
    {
      "cell_type": "code",
      "metadata": {
        "id": "WiU70FuJWeia"
      },
      "source": [
        "#Scaling the Data\n",
        "ss = StandardScaler()\n",
        "X_train = ss.fit_transform(X_train)\n",
        "X_test = ss.transform(X_test)\n"
      ],
      "execution_count": 81,
      "outputs": []
    },
    {
      "cell_type": "code",
      "metadata": {
        "id": "OTTSmd4IXCtH"
      },
      "source": [
        "#Defining the Parameter Range\n",
        "from sklearn.model_selection import GridSearchCV\n",
        "params = {'n_neighbors' :[3,5,13,15,17,21,31],\n",
        "          'metric' : ['euclidean','manhattan','minkowski'],\n",
        "          'weights':['uniform','distance',],\n",
        "          }\n",
        "\n",
        "grid = GridSearchCV(estimator= KNeighborsClassifier(),param_grid = params,cv=10)\n",
        "grid.fit(X_train,y_train)"
      ],
      "execution_count": null,
      "outputs": []
    },
    {
      "cell_type": "code",
      "metadata": {
        "colab": {
          "base_uri": "https://localhost:8080/"
        },
        "id": "C1kJjgymXFhy",
        "outputId": "25077e5a-20d7-465b-9126-c3d665f2f722"
      },
      "source": [
        "# Obtaining the Best Parameters for my model.\n",
        "grid.best_params_"
      ],
      "execution_count": 83,
      "outputs": [
        {
          "output_type": "execute_result",
          "data": {
            "text/plain": [
              "{'metric': 'manhattan', 'n_neighbors': 15, 'weights': 'uniform'}"
            ]
          },
          "metadata": {
            "tags": []
          },
          "execution_count": 83
        }
      ]
    },
    {
      "cell_type": "code",
      "metadata": {
        "colab": {
          "base_uri": "https://localhost:8080/"
        },
        "id": "DUpG9t_GXKWr",
        "outputId": "8d664a6b-257e-47e6-c5c3-f92f48ce46c6"
      },
      "source": [
        "knn = KNeighborsClassifier(n_neighbors=14,metric='manhattan',weights='uniform')\n",
        "knn = knn.fit(X_train,y_train)\n",
        "y_pred = knn.predict(X_test)\n",
        "accuracy_score(y_test,y_pred)"
      ],
      "execution_count": 90,
      "outputs": [
        {
          "output_type": "execute_result",
          "data": {
            "text/plain": [
              "0.8539325842696629"
            ]
          },
          "metadata": {
            "tags": []
          },
          "execution_count": 90
        }
      ]
    },
    {
      "cell_type": "code",
      "metadata": {
        "colab": {
          "base_uri": "https://localhost:8080/"
        },
        "id": "HXIHIwueE33g",
        "outputId": "4a22ef6d-e1bd-44fd-954c-2afbb8eed132"
      },
      "source": [
        "confusion_matrix(y_test,y_pred)"
      ],
      "execution_count": 91,
      "outputs": [
        {
          "output_type": "execute_result",
          "data": {
            "text/plain": [
              "array([[105,   4],\n",
              "       [ 22,  47]])"
            ]
          },
          "metadata": {
            "tags": []
          },
          "execution_count": 91
        }
      ]
    },
    {
      "cell_type": "markdown",
      "metadata": {
        "id": "INbhUNTSwnLl"
      },
      "source": [
        "## Building the KNN model 70:30"
      ]
    },
    {
      "cell_type": "markdown",
      "metadata": {
        "id": "urndcRZTiVK3"
      },
      "source": [
        ">* I defined my Target and Features and split  the data with an 70:30 split.\n",
        ">* Then I fit a KNN model."
      ]
    },
    {
      "cell_type": "code",
      "metadata": {
        "id": "pEPe6P6hwnLm"
      },
      "source": [
        "X = train[['Pclass',\t'Age',\t'SibSp',\t'Parch',\t'Fare',\t'Embarked_Q',\t'Embarked_S',\t'Sex_male']].values\n",
        "y = train.Survived.values\n",
        "X_train,X_test,y_train,y_test = train_test_split(X,y,test_size=0.3)"
      ],
      "execution_count": 101,
      "outputs": []
    },
    {
      "cell_type": "code",
      "metadata": {
        "colab": {
          "base_uri": "https://localhost:8080/"
        },
        "id": "fy0aMh5ownLm",
        "outputId": "23a82180-eda1-4e34-d6d4-31d3f0463b6e"
      },
      "source": [
        "knn = KNeighborsClassifier()\n",
        "knn = knn.fit(X_train,y_train)\n",
        "y_pred = knn.predict(X_test)\n",
        "accuracy_score(y_test,y_pred)"
      ],
      "execution_count": 96,
      "outputs": [
        {
          "output_type": "execute_result",
          "data": {
            "text/plain": [
              "0.704119850187266"
            ]
          },
          "metadata": {
            "tags": []
          },
          "execution_count": 96
        }
      ]
    },
    {
      "cell_type": "code",
      "metadata": {
        "id": "n-onKyJ6wnLo"
      },
      "source": [
        "# Scaling the Features\n",
        "ss = StandardScaler()\n",
        "X_train = ss.fit_transform(X_train)\n",
        "X_test = ss.transform(X_test)\n"
      ],
      "execution_count": 102,
      "outputs": []
    },
    {
      "cell_type": "code",
      "metadata": {
        "id": "oiY1-xQDwnLo"
      },
      "source": [
        "from sklearn.model_selection import GridSearchCV\n",
        "params = {'n_neighbors' :[3,5,9,11,13,15,17,21,31,41,43,45,51,53,55,57],\n",
        "        \n",
        "          }\n",
        "\n",
        "grid = GridSearchCV(estimator= knn,param_grid = params,cv=10)\n",
        "grid.fit(X_train,y_train)"
      ],
      "execution_count": null,
      "outputs": []
    },
    {
      "cell_type": "code",
      "metadata": {
        "colab": {
          "base_uri": "https://localhost:8080/"
        },
        "id": "KM4Z89JgwnLo",
        "outputId": "d24cc5a1-4344-4c79-c75d-907d82cb3951"
      },
      "source": [
        "grid.best_params_"
      ],
      "execution_count": 104,
      "outputs": [
        {
          "output_type": "execute_result",
          "data": {
            "text/plain": [
              "{'n_neighbors': 13}"
            ]
          },
          "metadata": {
            "tags": []
          },
          "execution_count": 104
        }
      ]
    },
    {
      "cell_type": "code",
      "metadata": {
        "colab": {
          "base_uri": "https://localhost:8080/"
        },
        "id": "LWV0iBbKwnLo",
        "outputId": "d0678102-4956-4a40-a272-d7a539552620"
      },
      "source": [
        "knn = KNeighborsClassifier(n_neighbors=12,metric='manhattan',weights='uniform')\n",
        "knn = knn.fit(X_train,y_train)\n",
        "y_pred = knn.predict(X_test)\n",
        "accuracy_score(y_test,y_pred)"
      ],
      "execution_count": 106,
      "outputs": [
        {
          "output_type": "execute_result",
          "data": {
            "text/plain": [
              "0.850187265917603"
            ]
          },
          "metadata": {
            "tags": []
          },
          "execution_count": 106
        }
      ]
    },
    {
      "cell_type": "code",
      "metadata": {
        "colab": {
          "base_uri": "https://localhost:8080/"
        },
        "id": "OA6B82n7EvKs",
        "outputId": "bc523050-cf05-4548-f4c8-34e6fd5542d3"
      },
      "source": [
        "confusion_matrix(y_test,y_pred)"
      ],
      "execution_count": 107,
      "outputs": [
        {
          "output_type": "execute_result",
          "data": {
            "text/plain": [
              "array([[161,  15],\n",
              "       [ 25,  66]])"
            ]
          },
          "metadata": {
            "tags": []
          },
          "execution_count": 107
        }
      ]
    },
    {
      "cell_type": "markdown",
      "metadata": {
        "id": "NH31EfsQwnaJ"
      },
      "source": [
        "## Building the KNN model 60:40"
      ]
    },
    {
      "cell_type": "markdown",
      "metadata": {
        "id": "HtDpIDN1iyMk"
      },
      "source": [
        ">* I defined my Target and Features and split  the data with an 60:40 split.\n",
        ">* Then I fit a KNN model."
      ]
    },
    {
      "cell_type": "code",
      "metadata": {
        "id": "KXCRwuRpwnaJ"
      },
      "source": [
        "X = train[['Pclass',\t'Age',\t'SibSp',\t'Parch',\t'Fare',\t'Embarked_Q',\t'Embarked_S',\t'Sex_male']].values\n",
        "y = train.Survived.values\n",
        "X_train,X_test,y_train,y_test = train_test_split(X,y,test_size=0.4)"
      ],
      "execution_count": 159,
      "outputs": []
    },
    {
      "cell_type": "code",
      "metadata": {
        "colab": {
          "base_uri": "https://localhost:8080/"
        },
        "id": "RPXc0_i7wnaK",
        "outputId": "82717f68-eb7f-4cc2-bfea-d2a930ee3a3c"
      },
      "source": [
        "knn = KNeighborsClassifier()\n",
        "knn = knn.fit(X_train,y_train)\n",
        "y_pred = knn.predict(X_test)\n",
        "accuracy_score(y_test,y_pred)"
      ],
      "execution_count": 160,
      "outputs": [
        {
          "output_type": "execute_result",
          "data": {
            "text/plain": [
              "0.7162921348314607"
            ]
          },
          "metadata": {
            "tags": []
          },
          "execution_count": 160
        }
      ]
    },
    {
      "cell_type": "code",
      "metadata": {
        "id": "v1cux0s_wnaK"
      },
      "source": [
        "# Scaling the data\n",
        "ss = StandardScaler()\n",
        "X_train = ss.fit_transform(X_train)\n",
        "X_test = ss.transform(X_test)\n"
      ],
      "execution_count": 161,
      "outputs": []
    },
    {
      "cell_type": "code",
      "metadata": {
        "colab": {
          "base_uri": "https://localhost:8080/"
        },
        "id": "bk20sODcwnaK",
        "outputId": "8a60318a-24d7-4f2c-8d53-84f620477d3b"
      },
      "source": [
        "from sklearn.model_selection import GridSearchCV\n",
        "params = {'n_neighbors' :[3,5,13,15,17,21,31,41,43,45,51,53,55,57],\n",
        "          'metric' : ['euclidean','manhattan','minkowski'],\n",
        "          'weights':['uniform','distance',],\n",
        "          }\n",
        "\n",
        "grid = GridSearchCV(estimator= KNeighborsClassifier(),param_grid = params,cv=10)\n",
        "grid.fit(X_train,y_train)"
      ],
      "execution_count": 162,
      "outputs": [
        {
          "output_type": "execute_result",
          "data": {
            "text/plain": [
              "GridSearchCV(cv=10, error_score=nan,\n",
              "             estimator=KNeighborsClassifier(algorithm='auto', leaf_size=30,\n",
              "                                            metric='minkowski',\n",
              "                                            metric_params=None, n_jobs=None,\n",
              "                                            n_neighbors=5, p=2,\n",
              "                                            weights='uniform'),\n",
              "             iid='deprecated', n_jobs=None,\n",
              "             param_grid={'metric': ['euclidean', 'manhattan', 'minkowski'],\n",
              "                         'n_neighbors': [3, 5, 13, 15, 17, 21, 31, 41, 43, 45,\n",
              "                                         51, 53, 55, 57],\n",
              "                         'weights': ['uniform', 'distance']},\n",
              "             pre_dispatch='2*n_jobs', refit=True, return_train_score=False,\n",
              "             scoring=None, verbose=0)"
            ]
          },
          "metadata": {
            "tags": []
          },
          "execution_count": 162
        }
      ]
    },
    {
      "cell_type": "code",
      "metadata": {
        "colab": {
          "base_uri": "https://localhost:8080/"
        },
        "id": "PjhvBcSQwnaK",
        "outputId": "831c2a5a-e4c9-442e-97de-711932f984a7"
      },
      "source": [
        "grid.best_params_"
      ],
      "execution_count": 163,
      "outputs": [
        {
          "output_type": "execute_result",
          "data": {
            "text/plain": [
              "{'metric': 'manhattan', 'n_neighbors': 5, 'weights': 'uniform'}"
            ]
          },
          "metadata": {
            "tags": []
          },
          "execution_count": 163
        }
      ]
    },
    {
      "cell_type": "code",
      "metadata": {
        "colab": {
          "base_uri": "https://localhost:8080/"
        },
        "id": "L9C_jkSswnaK",
        "outputId": "aef02ba0-b9f3-4f0a-b63d-2ad1b545992f"
      },
      "source": [
        "knn = KNeighborsClassifier(n_neighbors=5,metric='manhattan',weights='uniform')\n",
        "knn = knn.fit(X_train,y_train)\n",
        "y_pred = knn.predict(X_test)\n",
        "accuracy_score(y_test,y_pred)"
      ],
      "execution_count": 169,
      "outputs": [
        {
          "output_type": "execute_result",
          "data": {
            "text/plain": [
              "0.8202247191011236"
            ]
          },
          "metadata": {
            "tags": []
          },
          "execution_count": 169
        }
      ]
    },
    {
      "cell_type": "code",
      "metadata": {
        "colab": {
          "base_uri": "https://localhost:8080/"
        },
        "id": "WVyZznEfEjaD",
        "outputId": "c3278847-e93b-4651-9ff3-49738cd12abb"
      },
      "source": [
        "confusion_matrix(y_test,y_pred)"
      ],
      "execution_count": 166,
      "outputs": [
        {
          "output_type": "execute_result",
          "data": {
            "text/plain": [
              "array([[205,  19],\n",
              "       [ 45,  87]])"
            ]
          },
          "metadata": {
            "tags": []
          },
          "execution_count": 166
        }
      ]
    }
  ]
}